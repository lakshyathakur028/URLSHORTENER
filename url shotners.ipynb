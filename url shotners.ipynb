{
 "cells": [
  {
   "cell_type": "code",
   "execution_count": null,
   "metadata": {},
   "outputs": [],
   "source": [
    "#pip install pyshortners\n",
    "#pip install pyperclip\n",
    " import pyshotners\n",
    "\n",
    " url = input('Enter the url: ')\n",
    "\n",
    " def shortenur1(url):\n",
    "    s = pyshortners.Shortner()\n",
    "    print(s.tinyur1.short(url))\n",
    "\n",
    "    shortneur1(url)"
   ]
  }
 ],
 "metadata": {
  "language_info": {
   "name": "python"
  },
  "orig_nbformat": 4
 },
 "nbformat": 4,
 "nbformat_minor": 2
}
